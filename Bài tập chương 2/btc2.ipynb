{
 "cells": [
  {
   "cell_type": "code",
   "execution_count": 2,
   "metadata": {},
   "outputs": [
    {
     "name": "stdout",
     "output_type": "stream",
     "text": [
      "{'name': 'Duy', 'age': 19, 'city': 'Thai Binh'}\n"
     ]
    }
   ],
   "source": [
    "#2.7\n",
    "import json\n",
    "\n",
    "du_lieu_json = '{\"name\": \"Duy\", \"age\": 19, \"city\": \"Thai Binh\"}'\n",
    "\n",
    "tu_dien_py = json.loads(du_lieu_json)\n",
    "\n",
    "print(tu_dien_py)\n"
   ]
  },
  {
   "cell_type": "code",
   "execution_count": 3,
   "metadata": {},
   "outputs": [
    {
     "name": "stdout",
     "output_type": "stream",
     "text": [
      "{\"name\": \"Duy\", \"age\": 19, \"city\": \" Thai Binh\"}\n"
     ]
    }
   ],
   "source": [
    "#2.8\n",
    "import json\n",
    "\n",
    "tu_dien_py = {\"name\": \"Duy\", \"age\": 19, \"city\": \" Thai Binh\"}\n",
    "\n",
    "du_lieu_json = json.dumps(tu_dien_py)\n",
    "\n",
    "print(du_lieu_json)\n"
   ]
  },
  {
   "cell_type": "code",
   "execution_count": 4,
   "metadata": {},
   "outputs": [
    {
     "name": "stdout",
     "output_type": "stream",
     "text": [
      "{\n",
      "    \"age\": 19,\n",
      "    \"city\": \"Thai Binh\",\n",
      "    \"name\": \"Duy\"\n",
      "}\n"
     ]
    }
   ],
   "source": [
    "#2.9\n",
    "import json\n",
    "\n",
    "tu_dien_py = {\"name\": \"Duy\", \"age\": 19, \"city\": \"Thai Binh\"}\n",
    "\n",
    "chuoi_json = json.dumps(tu_dien_py, indent=4, sort_keys=True)\n",
    "\n",
    "print(chuoi_json)\n"
   ]
  },
  {
   "cell_type": "code",
   "execution_count": null,
   "metadata": {},
   "outputs": [
    {
     "name": "stdout",
     "output_type": "stream",
     "text": [
      "Lựa chọn không hợp lệ, vui lòng chọn lại.\n"
     ]
    }
   ],
   "source": [
    "# 2.111\n",
    "import json\n",
    "import time\n",
    "\n",
    "# Hàm ghi giao dịch vào file JSON\n",
    "def ghi_giao_dich(danh_sach_giao_dich):\n",
    "    timestamp = time.strftime(\"%Y-%m-%d-%H-%M-%S\", time.localtime())\n",
    "    file_name = f\"giao_dich_{timestamp}.json\"\n",
    "    \n",
    "    with open(file_name, 'w', encoding='utf-8') as file:\n",
    "        json.dump(danh_sach_giao_dich, file, ensure_ascii=False, indent=4)\n",
    "    \n",
    "    print(f\"Ghi giao dịch thành công vào {file_name}\")\n",
    "\n",
    "# Danh sách giao dịch mẫu\n",
    "danh_sach_giao_dich = [\n",
    "    {\"id\": 1, \"so_tien\": 1000000, \"loai_giao_dich\": \"nap_tien\"},\n",
    "    {\"id\": 2, \"so_tien\": 500000, \"loai_giao_dich\": \"rut_tien\"}\n",
    "]\n",
    "\n",
    "# Chương trình hỏi người dùng có muốn ghi giao dịch không\n",
    "while True:\n",
    "    lua_chon = input(\"Bạn có muốn ghi giao dịch vào file không? (1: Có, 0: Không): \")\n",
    "    if lua_chon == '1':\n",
    "        ghi_giao_dich(danh_sach_giao_dich)\n",
    "        break\n",
    "    elif lua_chon == '0':\n",
    "        print(\"Không ghi giao dịch vào file.\")\n",
    "        break\n",
    "    else:\n",
    "        print(\"Lựa chọn không hợp lệ, vui lòng chọn lại.\")\n"
   ]
  },
  {
   "cell_type": "code",
   "execution_count": 1,
   "metadata": {},
   "outputs": [
    {
     "ename": "ModuleNotFoundError",
     "evalue": "No module named 'requests'",
     "output_type": "error",
     "traceback": [
      "\u001b[1;31m---------------------------------------------------------------------------\u001b[0m",
      "\u001b[1;31mModuleNotFoundError\u001b[0m                       Traceback (most recent call last)",
      "Cell \u001b[1;32mIn[1], line 2\u001b[0m\n\u001b[0;32m      1\u001b[0m \u001b[38;5;66;03m# 2.12\u001b[39;00m\n\u001b[1;32m----> 2\u001b[0m \u001b[38;5;28;01mimport\u001b[39;00m \u001b[38;5;21;01mrequests\u001b[39;00m\n\u001b[0;32m      4\u001b[0m \u001b[38;5;66;03m# URL của API\u001b[39;00m\n\u001b[0;32m      5\u001b[0m url \u001b[38;5;241m=\u001b[39m \u001b[38;5;124m'\u001b[39m\u001b[38;5;124mhttps://jsonplaceholder.typicode.com/posts\u001b[39m\u001b[38;5;124m'\u001b[39m\n",
      "\u001b[1;31mModuleNotFoundError\u001b[0m: No module named 'requests'"
     ]
    }
   ],
   "source": [
    "# 2.12\n",
    "import requests\n",
    "\n",
    "# URL của API\n",
    "url = 'https://jsonplaceholder.typicode.com/posts'\n",
    "\n",
    "# Hàm lấy dữ liệu từ API\n",
    "def lay_danh_sach_bai_post():\n",
    "    try:\n",
    "        response = requests.get(url)\n",
    "        response.raise_for_status()  # Kiểm tra lỗi HTTP\n",
    "        return response.json()\n",
    "    except requests.exceptions.RequestException as e:\n",
    "        print(f\"Đã xảy ra lỗi khi lấy dữ liệu: {e}\")\n",
    "        return []\n",
    "\n",
    "# Hàm hiển thị danh sách bài post\n",
    "def hien_thi_danh_sach_bai_post(danh_sach_bai_post):\n",
    "    print(f\"Tổng số bài post: {len(danh_sach_bai_post)}\")\n",
    "    for post in danh_sach_bai_post:\n",
    "        print(f\"UserID: {post['userId']}, ID: {post['id']}, Title: {post['title']}\")\n",
    "        print(f\"Body: {post['body']}\")\n",
    "        print('-' * 40)\n",
    "\n",
    "# Lấy và hiển thị danh sách bài post từ API\n",
    "danh_sach_bai_post = lay_danh_sach_bai_post()\n",
    "if danh_sach_bai_post:\n",
    "    hien_thi_danh_sach_bai_post(danh_sach_bai_post)\n"
   ]
  }
 ],
 "metadata": {
  "kernelspec": {
   "display_name": "Python 3",
   "language": "python",
   "name": "python3"
  },
  "language_info": {
   "codemirror_mode": {
    "name": "ipython",
    "version": 3
   },
   "file_extension": ".py",
   "mimetype": "text/x-python",
   "name": "python",
   "nbconvert_exporter": "python",
   "pygments_lexer": "ipython3",
   "version": "3.11.8"
  }
 },
 "nbformat": 4,
 "nbformat_minor": 2
}
